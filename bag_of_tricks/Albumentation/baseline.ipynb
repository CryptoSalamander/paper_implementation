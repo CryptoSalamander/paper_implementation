{
 "cells": [
  {
   "cell_type": "code",
   "execution_count": 1,
   "id": "558e1298",
   "metadata": {},
   "outputs": [],
   "source": [
    "from collections import defaultdict\n",
    "import copy\n",
    "import random\n",
    "import os\n",
    "import shutil\n",
    "from urllib.request import urlretrieve\n",
    "import albumentations as A\n",
    "from albumentations.pytorch import ToTensorV2\n",
    "import cv2\n",
    "import matplotlib.pyplot as plt\n",
    "from tqdm import tqdm\n",
    "import torch\n",
    "import torch.backends.cudnn as cudnn\n",
    "import torch.nn as nn\n",
    "import torch.optim\n",
    "from torch.utils.data import Dataset, DataLoader\n",
    "import torchvision.models as models\n",
    "import glob\n",
    "cudnn.benchmark = True"
   ]
  },
  {
   "cell_type": "code",
   "execution_count": 2,
   "id": "7a4f1d66",
   "metadata": {},
   "outputs": [],
   "source": [
    "class TqdmUpTo(tqdm):\n",
    "    def update_to(self, b=1, bsize=1, tsize=None):\n",
    "        if tsize is not None:\n",
    "            self.total = tsize\n",
    "        self.update(b * bsize - self.n)\n",
    "\n",
    "def download_url(url, filepath):\n",
    "    directory = os.path.dirname(os.path.abspath(filepath))\n",
    "    os.makedirs(directory, exist_ok=True)\n",
    "    if os.path.exists(filepath):\n",
    "        print(\"Filepath already exists. Skipping download.\")\n",
    "        return\n",
    "    with TqdmUpTo(unit=\"B\", unit_scale=True, unit_divisor=1024, miniters=1, desc=os.path.basename(filepath)) as t:\n",
    "        urlretrieve(url, filename=filepath, reporthook=t.update_to, data=None)\n",
    "        t.total = t.n\n",
    "    \n",
    "def extract_archive(filepath):\n",
    "    extract_dir = os.path.dirname(os.path.abspath(filepath))\n",
    "    shutil.unpack_archive(filepath, extract_dir)"
   ]
  },
  {
   "cell_type": "code",
   "execution_count": 3,
   "id": "aff0e5e2",
   "metadata": {},
   "outputs": [],
   "source": [
    "dataset_directory = os.path.join(\".\", \"datasets/cats-vs-dogs\")"
   ]
  },
  {
   "cell_type": "code",
   "execution_count": null,
   "id": "382c9807",
   "metadata": {},
   "outputs": [
    {
     "name": "stdout",
     "output_type": "stream",
     "text": [
      "Filepath already exists. Skipping download.\n"
     ]
    }
   ],
   "source": [
    "filepath = os.path.join(dataset_directory, \"kagglecatsanddogs_3367a.zip\")\n",
    "download_url(\n",
    "    url=\"https://download.microsoft.com/download/3/E/1/3E1C3F21-ECDB-4869-8368-6DEBA77B919F/kagglecatsanddogs_3367a.zip\",\n",
    "    filepath=filepath,\n",
    ")\n",
    "extract_archive(filepath)"
   ]
  },
  {
   "cell_type": "code",
   "execution_count": null,
   "id": "629ba3dd",
   "metadata": {},
   "outputs": [],
   "source": [
    "root_directory = os.path.join(dataset_directory, \"PetImages\")\n",
    "\n",
    "cat_directory = os.path.join(root_directory, \"Cat\")\n",
    "dog_directory = os.path.join(root_directory, \"Dog\")\n",
    "\n",
    "cat_images_filepaths = glob.glob(cat_directory+'/*.jpg')\n",
    "dog_images_filepaths = glob.glob(dog_directory+'/*.jpg')\n",
    "images_filepaths = [*cat_images_filepaths, *dog_images_filepaths]\n",
    "# Remove Broken Image Files\n",
    "correct_images_filepaths = [i for i in images_filepaths if cv2.imread(i) is not None]"
   ]
  },
  {
   "cell_type": "code",
   "execution_count": null,
   "id": "351e1f10",
   "metadata": {},
   "outputs": [],
   "source": [
    "random.seed(42)\n",
    "random.shuffle(correct_images_filepaths)\n",
    "train_list = correct_images_filepaths[:20000]\n",
    "val_list = correct_images_filepaths[20000:-1000]\n",
    "test_images = correct_images_filepaths[-1000:]\n",
    "print(len(train_list), len(val_list), len(test_images))"
   ]
  },
  {
   "cell_type": "code",
   "execution_count": null,
   "id": "fd5f4fd4",
   "metadata": {},
   "outputs": [],
   "source": [
    "def display_image_grid(images_filepaths, predicted_labels=(), cols=5):\n",
    "    rows = len(images_filepaths) // cols\n",
    "    figure, ax = plt.subplots(nrows=rows, ncols=cols, figsize=(12, 6))\n",
    "    for i, image_filepath in enumerate(images_filepaths):\n",
    "        image = cv2.imread(image_filepath)\n",
    "        image = cv2.cvtColor(image, cv2.COLOR_BGR2RGB)\n",
    "        true_label = os.path.normpath(image_filepath).split(os.sep)[-2]\n",
    "        predicted_label = predicted_labels[i] if predicted_labels else true_label\n",
    "        color = \"green\" if true_label == predicted_label else \"red\"\n",
    "        ax.ravel()[i].imshow(image)\n",
    "        ax.ravel()[i].set_title(predicted_label, color=color)\n",
    "        ax.ravel()[i].set_axis_off()\n",
    "    plt.tight_layout()\n",
    "    plt.show()"
   ]
  },
  {
   "cell_type": "code",
   "execution_count": null,
   "id": "ded48b31",
   "metadata": {},
   "outputs": [],
   "source": [
    "display_image_grid(test_images[:10])"
   ]
  },
  {
   "cell_type": "code",
   "execution_count": null,
   "id": "b02c1f20",
   "metadata": {},
   "outputs": [],
   "source": [
    "class CatsVsDogsDataset(Dataset):\n",
    "    def __init__(self, images_filepaths, transform=None):\n",
    "        self.images_filepaths = images_filepaths\n",
    "        self.transform = transform\n",
    "    \n",
    "    def __len__(self):\n",
    "        return len(self.images_filepaths)\n",
    "    \n",
    "    def __getitem__(self, idx):\n",
    "        images_filepath = self.images_filepaths[idx]\n",
    "        image = cv2.imread(images_filepath)\n",
    "        image = cv2.cvtColor(image, cv2.COLOR_BGR2RGB)\n",
    "        if os.path.normpath(images_filepath).split(os.sep)[-2] == \"Cat\":\n",
    "            label = 1.0\n",
    "        else:\n",
    "            label = 0.0\n",
    "        if self.transform is not None:\n",
    "            image = self.transform(image=image)[\"image\"]\n",
    "        return image, label"
   ]
  },
  {
   "cell_type": "code",
   "execution_count": null,
   "id": "de224ddd",
   "metadata": {},
   "outputs": [],
   "source": [
    "train_transform = A.Compose(\n",
    "    [\n",
    "        A.SmallestMaxSize(max_size=160),\n",
    "        A.ShiftScaleRotate(shift_limit=0.05, scale_limit=0.05, rotate_limit=15, p=0.5),\n",
    "        A.RandomCrop(height=128,width=128),\n",
    "        A.RGBShift(r_shift_limit=15, g_shift_limit=15, b_shift_limit=15, p=0.5),\n",
    "        A.RandomBrightnessContrast(p=0.5),\n",
    "        A.Normalize(mean=(0.485, 0.456, 0.406), std=(0.229, 0.224, 0.225)),\n",
    "        ToTensorV2(),\n",
    "    ]\n",
    ")\n",
    "train_dataset = CatsVsDogsDataset(images_filepaths=train_list, transform=train_transform)"
   ]
  },
  {
   "cell_type": "code",
   "execution_count": null,
   "id": "bcc6d794",
   "metadata": {},
   "outputs": [],
   "source": [
    "val_transform = A.Compose(\n",
    "    [\n",
    "        A.SmallestMaxSize(max_size=160),\n",
    "        A.CenterCrop(height=128, width=128),\n",
    "        A.Normalize(mean=(0.485, 0.456, 0.406), std=(0.229, 0.224, 0.225)),\n",
    "        ToTensorV2(),\n",
    "    ]\n",
    ")\n",
    "val_dataset = CatsVsDogsDataset(images_filepaths=val_list, transform=val_transform)"
   ]
  },
  {
   "cell_type": "code",
   "execution_count": null,
   "id": "14520f33",
   "metadata": {},
   "outputs": [],
   "source": [
    "def visualize_augmentations(dataset, idx=0, samples=10, cols=5):\n",
    "    dataset = copy.deepcopy(dataset)\n",
    "    dataset.transform = A.Compose([t for t in dataset.transform if not isinstance(t, (A.Normalize, ToTensorV2))])\n",
    "    rows = samples // cols\n",
    "    figure, ax = plt.subplots(nrows=rows, ncols=cols, figsize=(12, 6))\n",
    "    for i in range(samples):\n",
    "        image, _ = dataset[idx]\n",
    "        ax.ravel()[i].imshow(image)\n",
    "        ax.ravel()[i].set_axis_off()\n",
    "    plt.tight_layout()\n",
    "    plt.show()"
   ]
  },
  {
   "cell_type": "code",
   "execution_count": null,
   "id": "9cfea774",
   "metadata": {},
   "outputs": [],
   "source": [
    "visualize_augmentations(train_dataset)"
   ]
  },
  {
   "cell_type": "code",
   "execution_count": null,
   "id": "9883633b",
   "metadata": {},
   "outputs": [],
   "source": [
    "def calculate_accuracy(output, target):\n",
    "    output = torch.sigmoid(output) >= 0.5\n",
    "    target = target == 1.0\n",
    "    return torch.true_divide((target == output).sum(dim=0), output.size(0)).item()"
   ]
  },
  {
   "cell_type": "code",
   "execution_count": null,
   "id": "e4100190",
   "metadata": {},
   "outputs": [],
   "source": [
    "class MetricMonitor:\n",
    "    def __init__(self, float_precision=3):\n",
    "        self.float_precision = float_precision\n",
    "        self.reset()\n",
    "\n",
    "    def reset(self):\n",
    "        self.metrics = defaultdict(lambda: {\"val\": 0, \"count\": 0, \"avg\": 0})\n",
    "\n",
    "    def update(self, metric_name, val):\n",
    "        metric = self.metrics[metric_name]\n",
    "\n",
    "        metric[\"val\"] += val\n",
    "        metric[\"count\"] += 1\n",
    "        metric[\"avg\"] = metric[\"val\"] / metric[\"count\"]\n",
    "\n",
    "    def __str__(self):\n",
    "        return \" | \".join(\n",
    "            [\n",
    "                \"{metric_name}: {avg:.{float_precision}f}\".format(\n",
    "                    metric_name=metric_name, avg=metric[\"avg\"], float_precision=self.float_precision\n",
    "                )\n",
    "                for (metric_name, metric) in self.metrics.items()\n",
    "            ]\n",
    "        )"
   ]
  },
  {
   "cell_type": "code",
   "execution_count": null,
   "id": "3e936d17",
   "metadata": {},
   "outputs": [],
   "source": [
    "params = {\n",
    "    \"model\": \"resnet50\",\n",
    "    \"device\": \"cuda\",\n",
    "    \"lr\": 0.004,\n",
    "    \"batch_size\": 256,\n",
    "    \"num_workers\": 8,\n",
    "    \"epochs\": 40,\n",
    "}"
   ]
  },
  {
   "cell_type": "code",
   "execution_count": null,
   "id": "5f6b671f",
   "metadata": {},
   "outputs": [],
   "source": [
    "model = getattr(models, params[\"model\"])(pretrained=False, num_classes=1,)\n",
    "model = model.to(params[\"device\"])\n",
    "criterion = nn.BCEWithLogitsLoss().to(params[\"device\"])\n",
    "optimizer = torch.optim.Adam(model.parameters(), lr=params[\"lr\"])"
   ]
  },
  {
   "cell_type": "code",
   "execution_count": null,
   "id": "70a79c91",
   "metadata": {},
   "outputs": [],
   "source": [
    "train_loader = DataLoader(\n",
    "    train_dataset, batch_size=params[\"batch_size\"], shuffle=True, num_workers=params[\"num_workers\"], pin_memory=True,\n",
    ")\n",
    "val_loader = DataLoader(\n",
    "    val_dataset, batch_size=params[\"batch_size\"], shuffle=False, num_workers=params[\"num_workers\"], pin_memory=True,\n",
    ")"
   ]
  },
  {
   "cell_type": "code",
   "execution_count": null,
   "id": "adfb2c67",
   "metadata": {},
   "outputs": [],
   "source": [
    "def train(train_loader, model, criterion, optimizer, epoch, params):\n",
    "    metric_monitor = MetricMonitor()\n",
    "    model.train()\n",
    "    stream = tqdm(train_loader)\n",
    "    for i, (images, target) in enumerate(stream, start=1):\n",
    "        images = images.to(params[\"device\"], non_blocking=True)\n",
    "        target = target.to(params[\"device\"], non_blocking=True).float().view(-1, 1)\n",
    "        output = model(images)\n",
    "        loss = criterion(output, target)\n",
    "        accuracy = calculate_accuracy(output, target)\n",
    "        metric_monitor.update(\"Loss\", loss.item())\n",
    "        metric_monitor.update(\"Accuracy\", accuracy)\n",
    "        optimizer.zero_grad()\n",
    "        loss.backward()\n",
    "        optimizer.step()\n",
    "        stream.set_description(\n",
    "            \"Epoch: {epoch}. Train.      {metric_monitor}\".format(epoch=epoch, metric_monitor=metric_monitor)\n",
    "        )"
   ]
  },
  {
   "cell_type": "code",
   "execution_count": null,
   "id": "b569331e",
   "metadata": {},
   "outputs": [],
   "source": [
    "def validate(val_loader, model, criterion, epoch, params):\n",
    "    metric_monitor = MetricMonitor()\n",
    "    model.eval()\n",
    "    stream = tqdm(val_loader)\n",
    "    with torch.no_grad():\n",
    "        for i, (images, target) in enumerate(stream, start=1):\n",
    "            images = images.to(params[\"device\"], non_blocking=True)\n",
    "            target = target.to(params[\"device\"], non_blocking=True).float().view(-1, 1)\n",
    "            output = model(images)\n",
    "            loss = criterion(output, target)\n",
    "            accuracy = calculate_accuracy(output, target)\n",
    "\n",
    "            metric_monitor.update(\"Loss\", loss.item())\n",
    "            metric_monitor.update(\"Accuracy\", accuracy)\n",
    "            stream.set_description(\n",
    "                \"Epoch: {epoch}. Validation. {metric_monitor}\".format(epoch=epoch, metric_monitor=metric_monitor)\n",
    "            )"
   ]
  },
  {
   "cell_type": "code",
   "execution_count": null,
   "id": "e94ecc41",
   "metadata": {},
   "outputs": [],
   "source": [
    "for epoch in range(1, params[\"epochs\"] + 1):\n",
    "    train(train_loader, model, criterion, optimizer, epoch, params)\n",
    "    validate(val_loader, model, criterion, epoch, params)"
   ]
  },
  {
   "cell_type": "code",
   "execution_count": null,
   "id": "4e7acdd2",
   "metadata": {},
   "outputs": [],
   "source": [
    "class CatsVsDogsInferenceDataset(Dataset):\n",
    "    def __init__(self, images_filepaths, transform=None):\n",
    "        self.images_filepaths = images_filepaths\n",
    "        self.transform = transform\n",
    "\n",
    "    def __len__(self):\n",
    "        return len(self.images_filepaths)\n",
    "\n",
    "    def __getitem__(self, idx):\n",
    "        image_filepath = self.images_filepaths[idx]\n",
    "        image = cv2.imread(image_filepath)\n",
    "        image = cv2.cvtColor(image, cv2.COLOR_BGR2RGB)\n",
    "        if self.transform is not None:\n",
    "            image = self.transform(image=image)[\"image\"]\n",
    "        return image\n",
    "\n",
    "test_transform = A.Compose(\n",
    "    [\n",
    "        A.SmallestMaxSize(max_size=160),\n",
    "        A.CenterCrop(height=128, width=128),\n",
    "        A.Normalize(mean=(0.485, 0.456, 0.406), std=(0.229, 0.224, 0.225)),\n",
    "        ToTensorV2(),\n",
    "    ]\n",
    ")\n",
    "test_dataset = CatsVsDogsInferenceDataset(images_filepaths=test_images, transform=test_transform)\n",
    "test_loader = DataLoader(\n",
    "    test_dataset, batch_size=params[\"batch_size\"], shuffle=False, num_workers=params[\"num_workers\"], pin_memory=True,\n",
    ")"
   ]
  },
  {
   "cell_type": "code",
   "execution_count": null,
   "id": "109e6477",
   "metadata": {},
   "outputs": [],
   "source": [
    "model = model.eval()\n",
    "predicted_labels = []\n",
    "with torch.no_grad():\n",
    "    for images in test_loader:\n",
    "        images = images.to(params[\"device\"], non_blocking=True)\n",
    "        output = model(images)\n",
    "        predictions = (torch.sigmoid(output) >= 0.5)[:, 0].cpu().numpy()\n",
    "        predicted_labels += [\"Cat\" if is_cat else \"Dog\" for is_cat in predictions]"
   ]
  },
  {
   "cell_type": "code",
   "execution_count": null,
   "id": "93639a82",
   "metadata": {},
   "outputs": [],
   "source": [
    "display_image_grid(test_images[:10], predicted_labels)"
   ]
  },
  {
   "cell_type": "code",
   "execution_count": null,
   "id": "a104bbf9",
   "metadata": {},
   "outputs": [],
   "source": []
  }
 ],
 "metadata": {
  "kernelspec": {
   "display_name": "Python 3",
   "language": "python",
   "name": "python3"
  },
  "language_info": {
   "codemirror_mode": {
    "name": "ipython",
    "version": 3
   },
   "file_extension": ".py",
   "mimetype": "text/x-python",
   "name": "python",
   "nbconvert_exporter": "python",
   "pygments_lexer": "ipython3",
   "version": "3.8.10"
  }
 },
 "nbformat": 4,
 "nbformat_minor": 5
}
